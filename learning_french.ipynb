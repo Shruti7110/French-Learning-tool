{
 "cells": [
  {
   "cell_type": "markdown",
   "id": "d20ef30a-a5f6-474d-9de8-25650cea4942",
   "metadata": {},
   "source": [
    "# <span style = \"color:purple\"> <span style = \"font-family: Times New Roman\"> Hello & Bonjour! </span>"
   ]
  },
  {
   "cell_type": "markdown",
   "id": "c103057a-ac9a-4353-8ce4-4182afdd7d18",
   "metadata": {},
   "source": [
    "### <span style = \"color:purple\"><span style = \"font-family: Times New Roman\"> Welcome to French Learning 101 where we make LLMs are teacher to help become Fluent French Spokesperson. </span>\n"
   ]
  },
  {
   "cell_type": "markdown",
   "id": "190a6caa-b38b-47fe-b996-7ff58b51a4e7",
   "metadata": {},
   "source": [
    "##### <span style = \"color:purple\"> <span style = \"font-family: Times New Roman\"> This tool helps you with the french translation for a given sentence and also helps in pronounciations along with suggestion of what should be your reply to the given sentence</span>\n"
   ]
  },
  {
   "cell_type": "markdown",
   "id": "017692df-21a5-4261-a3d4-46444233a311",
   "metadata": {},
   "source": [
    "***"
   ]
  },
  {
   "cell_type": "code",
   "execution_count": 1,
   "id": "acdcad08-5343-4f46-8bd9-df26a1d3a944",
   "metadata": {},
   "outputs": [],
   "source": [
    "from dotenv import load_dotenv\n",
    "from openai import OpenAI\n",
    "import gradio as gr\n",
    "import os\n",
    "\n",
    "load_dotenv()\n",
    "openai_api_key = os.getenv('OPENAI_API_KEY')\n",
    "\n",
    "openai = OpenAI()\n",
    "MODEL = 'gpt-4o-mini'"
   ]
  },
  {
   "cell_type": "code",
   "execution_count": 2,
   "id": "c6216d36-3ea9-4298-9bd8-9295c6b39d2c",
   "metadata": {},
   "outputs": [],
   "source": [
    "system_message = \" You are a french teacher \""
   ]
  },
  {
   "cell_type": "code",
   "execution_count": 10,
   "id": "a0e21660-7dea-435d-bfa4-322b56637a0c",
   "metadata": {},
   "outputs": [],
   "source": [
    "# to add audio for the chat\n",
    "\n",
    "from pydub import AudioSegment\n",
    "from pydub.playback import play\n",
    "from io import BytesIO\n",
    "import pygame\n",
    "\n",
    "def talker(message):\n",
    "    ''' Read the reponse and gives audio feedback pronouncing the response'''\n",
    "    response = openai.audio.speech.create(\n",
    "      model=\"tts-1\",\n",
    "      voice=\"alloy\",    # Also, try replacing onyx with alloy\n",
    "      input=message\n",
    "    )\n",
    "    \n",
    "    audio_stream = BytesIO(response.content)\n",
    "    pygame.init()\n",
    "    pygame.mixer.init(frequency=int(44100*0.75))\n",
    "    # Load the audio from the BytesIO object\n",
    "    sound = pygame.mixer.Sound(audio_stream)\n",
    "    # Play the sound\n",
    "    sound.play()\n",
    "    # Keep the program running until the sound finishes playing\n",
    "    while pygame.mixer.get_busy():\n",
    "        pygame.time.delay(100)\n",
    "    # Quit Pygame\n",
    "    pygame.quit()"
   ]
  },
  {
   "cell_type": "code",
   "execution_count": 4,
   "id": "b61b5b3c-3151-4b15-9837-82dc6d0ab5d2",
   "metadata": {},
   "outputs": [],
   "source": [
    "def translate_to_french(message):\n",
    "    ''' This function gives french translation of your sentence'''\n",
    "    \n",
    "    system_message = \"You are a translator who reads the user message (which is in English) and tells the same sentence in French. \"\n",
    "    system_message += \"For example, if the message is 'hello', say it like 'Bonjour'.\"\n",
    "    \n",
    "    messages = [{\"role\": \"system\", \"content\": system_message}] + [{\"role\": \"user\", \"content\": message}]\n",
    "    \n",
    "    try:\n",
    "        response = openai.chat.completions.create(model=MODEL, messages=messages)\n",
    "        return response.choices[0].message.content.strip()\n",
    "    except Exception as e:\n",
    "        return f\"Error: {str(e)}\"\n",
    "\n",
    "    "
   ]
  },
  {
   "cell_type": "code",
   "execution_count": 5,
   "id": "0f341d06-293a-42af-9c5d-5aaad9472dcc",
   "metadata": {},
   "outputs": [],
   "source": [
    "def suggest_next_line(message):\n",
    "    ''' This function suggests the reply to your sentence in french'''\n",
    "    system_message = \"You are a translator who reads the user message (which is in English) and suggests the best next response in French. Write the translation in english on the next line\"\n",
    "    system_message += \"For example, if the message is 'How are you?', your response should be 'Je vais bien, merci. Translation: I'm doing well, thanks'\"\n",
    "    system_message += \"For example, 'Please may i come in?' your response should be 'Oui, entrez! \\n Translation: Yes, come in!'\"\n",
    "    messages = [{\"role\": \"system\", \"content\": system_message}] + [{\"role\": \"user\", \"content\": message}]\n",
    "    \n",
    "    try:\n",
    "        response = openai.chat.completions.create(model=MODEL, messages=messages)\n",
    "        return response.choices[0].message.content.strip()\n",
    "    except Exception as e:\n",
    "        return f\"Error: {str(e)}\""
   ]
  },
  {
   "cell_type": "code",
   "execution_count": 6,
   "id": "a676c7ca-56f4-4ea9-881f-5a9c91b00bf8",
   "metadata": {},
   "outputs": [],
   "source": [
    "def process_text(user_input):\n",
    "    translation = translate_to_french(user_input)\n",
    "    next_line = suggest_next_line(user_input)\n",
    "    return translation, next_line"
   ]
  },
  {
   "cell_type": "code",
   "execution_count": 7,
   "id": "0d93f3be-c135-4763-8f29-f0880297169c",
   "metadata": {},
   "outputs": [],
   "source": [
    "force_dark_mode = \"\"\"\n",
    "function refresh() {\n",
    "    const url = new URL(window.location);\n",
    "    if (url.searchParams.get('__theme') !== 'dark') {\n",
    "        url.searchParams.set('__theme', 'dark');\n",
    "        window.location.href = url.href;\n",
    "    }\n",
    "}\n",
    "\"\"\" # ensuring dark theme!!"
   ]
  },
  {
   "cell_type": "code",
   "execution_count": 8,
   "id": "d62d5671-7377-467e-af25-6f91389f4018",
   "metadata": {},
   "outputs": [],
   "source": [
    "custom_css = \"\"\"\n",
    "    @import url('https://fonts.googleapis.com/css2?family=Great+Vibes&display=swap');\n",
    "\n",
    "    body {\n",
    "        background-color: #121212 !important;\n",
    "        color: #ffffff !important;\n",
    "        font-family: Times New Roman, sans-serif;\n",
    "    }\n",
    "    .gradio-container {\n",
    "        max-width: 90%;\n",
    "        margin: auto;\n",
    "        padding: 10px;\n",
    "        border-radius: 10px;\n",
    "        box-shadow: 0 4px 8px rgba(0, 0, 0, 0.1);\n",
    "        background-color: #121212 !important;\n",
    "        color: #ffffff !important;\n",
    "        font-size: 30px;\n",
    "    }\n",
    "    .gradio-container h1 {\n",
    "        text-align: center;\n",
    "        font-size: 60px;\n",
    "        font-weight: 700;\n",
    "        font-style: italic;\n",
    "        font-family: 'Great Vibes', cursive;  /* Elegant script font */\n",
    "        text-transform: none;\n",
    "        background: linear-gradient(to right, #ff0000, #ffffff, #000091); /* Red-White-Blue */\n",
    "        -webkit-background-clip: text;\n",
    "        -webkit-text-fill-color: transparent;\n",
    "        letter-spacing: 3px;        \n",
    "        text-shadow: 2px 2px 5px rgba(255, 105, 180, 0.4); /* Subtle pink glow */\n",
    "    }\n",
    "    .gradio-container .gr-box {\n",
    "        border: none !important;\n",
    "        box-shadow: none !important;\n",
    "    }\n",
    "    .gradio-container .gr-box .label {\n",
    "        display: none !important;\n",
    "    }\n",
    "    .gradio-container img {\n",
    "        width: 100vw;\n",
    "        height: auto;\n",
    "        border-radius: 10px;\n",
    "        background-color: transparent !important;\n",
    "    }\n",
    "    .gr-markdown {\n",
    "    background-color: #121212 !important;\n",
    "    color: #ffffff !important;\n",
    "    }\n",
    "    #custom_submit_button {\n",
    "        background-color: #e01b1b !important; \n",
    "        color: white !important;\n",
    "        font-weight: bold;\n",
    "        padding: 10px 20px;\n",
    "        border-radius: 8px;\n",
    "        transition: 0.3s ease-in-out;\n",
    "    }\n",
    "    #custom_submit_button:hover {\n",
    "        background-color: #ff3333 !important;\n",
    "    }\n",
    "    #custom_Pronounce_button {\n",
    "        background-color: #ffffff !important; \n",
    "        color: #000000 !important;\n",
    "        font-weight: bold;\n",
    "        padding: 10px 20px;\n",
    "        border-radius: 8px;\n",
    "        transition: 0.3s ease-in-out;\n",
    "    }\n",
    "    #custom_Pronounce_button:hover {\n",
    "        background-color: #d4d2d2 !important;\n",
    "    }\n",
    "    #custom_next_line_translation_button {\n",
    "        background-color: #000091 !important;\n",
    "        color: white !important;\n",
    "        font-weight: bold;\n",
    "        padding: 10px 20px;\n",
    "        border-radius: 8px;\n",
    "        transition: 0.3s ease-in-out;\n",
    "    }\n",
    "    #custom_next_line_translation_button:hover {\n",
    "        background-color: #0000d1 !important;\n",
    "    }\n",
    "\"\"\""
   ]
  },
  {
   "cell_type": "code",
   "execution_count": 9,
   "id": "42a9efc9-dd61-4daf-99ee-025371174a50",
   "metadata": {},
   "outputs": [
    {
     "name": "stdout",
     "output_type": "stream",
     "text": [
      "* Running on local URL:  http://127.0.0.1:7913\n",
      "\n",
      "To create a public link, set `share=True` in `launch()`.\n"
     ]
    },
    {
     "data": {
      "text/html": [
       "<div><iframe src=\"http://127.0.0.1:7913/\" width=\"100%\" height=\"500\" allow=\"autoplay; camera; microphone; clipboard-read; clipboard-write;\" frameborder=\"0\" allowfullscreen></iframe></div>"
      ],
      "text/plain": [
       "<IPython.core.display.HTML object>"
      ]
     },
     "metadata": {},
     "output_type": "display_data"
    },
    {
     "data": {
      "text/plain": []
     },
     "execution_count": 9,
     "metadata": {},
     "output_type": "execute_result"
    }
   ],
   "source": [
    "with gr.Blocks(css=custom_css, js=force_dark_mode) as ui:    \n",
    "    gr.Image(\"./header_img.png\")\n",
    "    gr.Markdown(\"# French Learning 101: Apprenons le français.\")\n",
    "    \n",
    "    with gr.Row():\n",
    "        user_input = gr.Textbox(label=\"Enter English Sentence\",  lines=4)\n",
    "        translation_output = gr.Textbox(label=\"French Translation\", interactive=False,  lines=4)\n",
    "        next_line_output = gr.Textbox(label=\"Next Line Suggestion\", interactive=False,  lines=4)\n",
    "    with gr.Row():\n",
    "        submit_button = gr.Button(\"Translate & Suggest\", elem_id=\"custom_submit_button\")\n",
    "        Pronounce_translation = gr.Button(\"Pronounciation\", elem_id=\"custom_Pronounce_button\")\n",
    "        next_line_translation = gr.Button(\"Pronounciation\", elem_id=\"custom_next_line_translation_button\")\n",
    "        \n",
    "    submit_button.click(process_text, inputs=[user_input], outputs=[translation_output, next_line_output])\n",
    "    Pronounce_translation.click(talker, inputs=[translation_output])\n",
    "    next_line_translation.click(talker, inputs=[next_line_output])\n",
    "# Launch the Gradio app\n",
    "ui.launch()\n"
   ]
  },
  {
   "cell_type": "code",
   "execution_count": null,
   "id": "b5e9e6c2-456d-49df-a958-13d0fd1dca23",
   "metadata": {},
   "outputs": [],
   "source": []
  }
 ],
 "metadata": {
  "kernelspec": {
   "display_name": "Python 3 (ipykernel)",
   "language": "python",
   "name": "python3"
  },
  "language_info": {
   "codemirror_mode": {
    "name": "ipython",
    "version": 3
   },
   "file_extension": ".py",
   "mimetype": "text/x-python",
   "name": "python",
   "nbconvert_exporter": "python",
   "pygments_lexer": "ipython3",
   "version": "3.11.11"
  }
 },
 "nbformat": 4,
 "nbformat_minor": 5
}
